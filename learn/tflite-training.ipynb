{
 "cells": [
  {
   "cell_type": "code",
   "execution_count": 1,
   "metadata": {},
   "outputs": [],
   "source": [
    "import numpy as np\n",
    "import os\n",
    "\n",
    "from tflite_model_maker.config import QuantizationConfig\n",
    "from tflite_model_maker.config import ExportFormat\n",
    "from tflite_model_maker import model_spec\n",
    "from tflite_model_maker import object_detector\n",
    "\n",
    "import tensorflow as tf\n",
    "assert tf.__version__.startswith('2')\n",
    "\n",
    "tf.get_logger().setLevel('WARN')\n",
    "from absl import logging\n",
    "logging.set_verbosity(logging.WARN)"
   ]
  },
  {
   "cell_type": "code",
   "execution_count": 2,
   "metadata": {},
   "outputs": [],
   "source": [
    "spec = object_detector.EfficientDetSpec(\n",
    "  model_name='efficientdet-lite0', \n",
    "  uri='https://tfhub.dev/tensorflow/efficientdet/lite0/feature-vector/1', \n",
    "  hparams={'max_instances_per_image': 8000}\n",
    ")"
   ]
  },
  {
   "cell_type": "code",
   "execution_count": 3,
   "metadata": {},
   "outputs": [],
   "source": [
    "import os\n",
    "\n",
    "annotation_paths = [os.path.splitext(path)[0] for path in os.listdir(\"dataset/tf_labels\")]\n",
    "# TODO: Investigate how shuffling the various datasets affect model accuracy\n",
    "test_annotations = annotation_paths[0:250]\n",
    "validate_annotations = annotation_paths[250:500]\n",
    "training_annotations = annotation_paths[500:]"
   ]
  },
  {
   "cell_type": "code",
   "execution_count": 4,
   "metadata": {},
   "outputs": [
    {
     "name": "stdout",
     "output_type": "stream",
     "text": [
      "INFO:tensorflow:Cache will be stored in /tmp/tmpe_j313es with prefix filename 02d31dbb50930ef4f9c6074b548954ab. Cache_prefix is /tmp/tmpe_j313es/02d31dbb50930ef4f9c6074b548954ab\n"
     ]
    },
    {
     "name": "stderr",
     "output_type": "stream",
     "text": [
      "INFO:tensorflow:Cache will be stored in /tmp/tmpe_j313es with prefix filename 02d31dbb50930ef4f9c6074b548954ab. Cache_prefix is /tmp/tmpe_j313es/02d31dbb50930ef4f9c6074b548954ab\n"
     ]
    },
    {
     "name": "stdout",
     "output_type": "stream",
     "text": [
      "INFO:tensorflow:On image 0\n"
     ]
    },
    {
     "name": "stderr",
     "output_type": "stream",
     "text": [
      "INFO:tensorflow:On image 0\n"
     ]
    },
    {
     "name": "stdout",
     "output_type": "stream",
     "text": [
      "INFO:tensorflow:On image 100\n"
     ]
    },
    {
     "name": "stderr",
     "output_type": "stream",
     "text": [
      "INFO:tensorflow:On image 100\n"
     ]
    },
    {
     "name": "stdout",
     "output_type": "stream",
     "text": [
      "INFO:tensorflow:On image 200\n"
     ]
    },
    {
     "name": "stderr",
     "output_type": "stream",
     "text": [
      "INFO:tensorflow:On image 200\n"
     ]
    },
    {
     "name": "stdout",
     "output_type": "stream",
     "text": [
      "INFO:tensorflow:On image 300\n"
     ]
    },
    {
     "name": "stderr",
     "output_type": "stream",
     "text": [
      "INFO:tensorflow:On image 300\n"
     ]
    },
    {
     "name": "stdout",
     "output_type": "stream",
     "text": [
      "INFO:tensorflow:On image 400\n"
     ]
    },
    {
     "name": "stderr",
     "output_type": "stream",
     "text": [
      "INFO:tensorflow:On image 400\n"
     ]
    },
    {
     "name": "stdout",
     "output_type": "stream",
     "text": [
      "INFO:tensorflow:On image 500\n"
     ]
    },
    {
     "name": "stderr",
     "output_type": "stream",
     "text": [
      "INFO:tensorflow:On image 500\n"
     ]
    },
    {
     "name": "stdout",
     "output_type": "stream",
     "text": [
      "INFO:tensorflow:On image 600\n"
     ]
    },
    {
     "name": "stderr",
     "output_type": "stream",
     "text": [
      "INFO:tensorflow:On image 600\n"
     ]
    },
    {
     "name": "stdout",
     "output_type": "stream",
     "text": [
      "INFO:tensorflow:On image 700\n"
     ]
    },
    {
     "name": "stderr",
     "output_type": "stream",
     "text": [
      "INFO:tensorflow:On image 700\n"
     ]
    },
    {
     "name": "stdout",
     "output_type": "stream",
     "text": [
      "INFO:tensorflow:On image 800\n"
     ]
    },
    {
     "name": "stderr",
     "output_type": "stream",
     "text": [
      "INFO:tensorflow:On image 800\n"
     ]
    },
    {
     "name": "stdout",
     "output_type": "stream",
     "text": [
      "INFO:tensorflow:On image 900\n"
     ]
    },
    {
     "name": "stderr",
     "output_type": "stream",
     "text": [
      "INFO:tensorflow:On image 900\n"
     ]
    },
    {
     "name": "stdout",
     "output_type": "stream",
     "text": [
      "INFO:tensorflow:On image 1000\n"
     ]
    },
    {
     "name": "stderr",
     "output_type": "stream",
     "text": [
      "INFO:tensorflow:On image 1000\n"
     ]
    },
    {
     "name": "stdout",
     "output_type": "stream",
     "text": [
      "INFO:tensorflow:On image 1100\n"
     ]
    },
    {
     "name": "stderr",
     "output_type": "stream",
     "text": [
      "INFO:tensorflow:On image 1100\n"
     ]
    },
    {
     "name": "stdout",
     "output_type": "stream",
     "text": [
      "INFO:tensorflow:On image 1200\n"
     ]
    },
    {
     "name": "stderr",
     "output_type": "stream",
     "text": [
      "INFO:tensorflow:On image 1200\n"
     ]
    },
    {
     "name": "stdout",
     "output_type": "stream",
     "text": [
      "INFO:tensorflow:On image 1300\n"
     ]
    },
    {
     "name": "stderr",
     "output_type": "stream",
     "text": [
      "INFO:tensorflow:On image 1300\n"
     ]
    },
    {
     "name": "stdout",
     "output_type": "stream",
     "text": [
      "INFO:tensorflow:On image 1400\n"
     ]
    },
    {
     "name": "stderr",
     "output_type": "stream",
     "text": [
      "INFO:tensorflow:On image 1400\n"
     ]
    },
    {
     "name": "stdout",
     "output_type": "stream",
     "text": [
      "INFO:tensorflow:Cache will be stored in /tmp/tmpqt9xudjf with prefix filename 8bd9758925e2a80f71e3a01e8486ea78. Cache_prefix is /tmp/tmpqt9xudjf/8bd9758925e2a80f71e3a01e8486ea78\n"
     ]
    },
    {
     "name": "stderr",
     "output_type": "stream",
     "text": [
      "INFO:tensorflow:Cache will be stored in /tmp/tmpqt9xudjf with prefix filename 8bd9758925e2a80f71e3a01e8486ea78. Cache_prefix is /tmp/tmpqt9xudjf/8bd9758925e2a80f71e3a01e8486ea78\n"
     ]
    },
    {
     "name": "stdout",
     "output_type": "stream",
     "text": [
      "INFO:tensorflow:On image 0\n"
     ]
    },
    {
     "name": "stderr",
     "output_type": "stream",
     "text": [
      "INFO:tensorflow:On image 0\n"
     ]
    },
    {
     "name": "stdout",
     "output_type": "stream",
     "text": [
      "INFO:tensorflow:On image 100\n"
     ]
    },
    {
     "name": "stderr",
     "output_type": "stream",
     "text": [
      "INFO:tensorflow:On image 100\n"
     ]
    },
    {
     "name": "stdout",
     "output_type": "stream",
     "text": [
      "INFO:tensorflow:On image 200\n"
     ]
    },
    {
     "name": "stderr",
     "output_type": "stream",
     "text": [
      "INFO:tensorflow:On image 200\n"
     ]
    },
    {
     "name": "stdout",
     "output_type": "stream",
     "text": [
      "INFO:tensorflow:Cache will be stored in /tmp/tmpb46gnrfp with prefix filename 736845076a6183dc871db36288a58a00. Cache_prefix is /tmp/tmpb46gnrfp/736845076a6183dc871db36288a58a00\n"
     ]
    },
    {
     "name": "stderr",
     "output_type": "stream",
     "text": [
      "INFO:tensorflow:Cache will be stored in /tmp/tmpb46gnrfp with prefix filename 736845076a6183dc871db36288a58a00. Cache_prefix is /tmp/tmpb46gnrfp/736845076a6183dc871db36288a58a00\n"
     ]
    },
    {
     "name": "stdout",
     "output_type": "stream",
     "text": [
      "INFO:tensorflow:On image 0\n"
     ]
    },
    {
     "name": "stderr",
     "output_type": "stream",
     "text": [
      "INFO:tensorflow:On image 0\n"
     ]
    },
    {
     "name": "stdout",
     "output_type": "stream",
     "text": [
      "INFO:tensorflow:On image 100\n"
     ]
    },
    {
     "name": "stderr",
     "output_type": "stream",
     "text": [
      "INFO:tensorflow:On image 100\n"
     ]
    },
    {
     "name": "stdout",
     "output_type": "stream",
     "text": [
      "INFO:tensorflow:On image 200\n"
     ]
    },
    {
     "name": "stderr",
     "output_type": "stream",
     "text": [
      "INFO:tensorflow:On image 200\n"
     ]
    },
    {
     "data": {
      "text/plain": [
       "(1500, 250, 250)"
      ]
     },
     "execution_count": 4,
     "metadata": {},
     "output_type": "execute_result"
    }
   ],
   "source": [
    "train_data = object_detector.DataLoader.from_pascal_voc(\n",
    "  images_dir=\"dataset/data\", \n",
    "  annotations_dir=\"dataset/tf_labels\", \n",
    "  annotation_filenames=training_annotations, \n",
    "  label_map={1: \"Person\", 2: \"Horse\"}\n",
    ")\n",
    "test_data = object_detector.DataLoader.from_pascal_voc(\n",
    "  images_dir=\"dataset/data\", \n",
    "  annotations_dir=\"dataset/tf_labels\", \n",
    "  annotation_filenames=test_annotations, \n",
    "  label_map={1: \"Person\", 2: \"Horse\"}\n",
    ")\n",
    "validate_data = object_detector.DataLoader.from_pascal_voc(\n",
    "  images_dir=\"dataset/data\", \n",
    "  annotations_dir=\"dataset/tf_labels\", \n",
    "  annotation_filenames=validate_annotations, \n",
    "  label_map={1: \"Person\", 2: \"Horse\"}\n",
    ")\n",
    "\n",
    "(train_data.size, test_data.size, validate_data.size)"
   ]
  },
  {
   "cell_type": "code",
   "execution_count": 5,
   "metadata": {},
   "outputs": [
    {
     "name": "stdout",
     "output_type": "stream",
     "text": [
      "INFO:tensorflow:Retraining the models...\n"
     ]
    },
    {
     "name": "stderr",
     "output_type": "stream",
     "text": [
      "INFO:tensorflow:Retraining the models...\n",
      "INFO:absl:Using /tmp/tfhub_modules to cache modules.\n",
      "INFO:absl:target_size = (320, 320), output_size = (320, 320)\n",
      "INFO:absl:LR schedule method: cosine\n",
      "INFO:absl:Use SGD optimizer\n"
     ]
    },
    {
     "name": "stdout",
     "output_type": "stream",
     "text": [
      "Epoch 1/50\n",
      "  6/187 [..............................] - ETA: 22s - det_loss: 1.8228 - cls_loss: 1.1199 - box_loss: 0.0141 - reg_l2_loss: 0.0630 - loss: 1.8858 - learning_rate: 0.0080 - gradient_norm: 0.8280WARNING:tensorflow:Callback method `on_train_batch_end` is slow compared to the batch time (batch time: 0.1215s vs `on_train_batch_end` time: 0.1860s). Check your callbacks.\n"
     ]
    },
    {
     "name": "stderr",
     "output_type": "stream",
     "text": [
      "WARNING:tensorflow:Callback method `on_train_batch_end` is slow compared to the batch time (batch time: 0.1215s vs `on_train_batch_end` time: 0.1860s). Check your callbacks.\n"
     ]
    },
    {
     "name": "stdout",
     "output_type": "stream",
     "text": [
      "187/187 [==============================] - 51s 146ms/step - det_loss: 1.0832 - cls_loss: 0.5778 - box_loss: 0.0101 - reg_l2_loss: 0.0630 - loss: 1.1462 - learning_rate: 0.0090 - gradient_norm: 2.0001 - val_det_loss: 0.9926 - val_cls_loss: 0.5647 - val_box_loss: 0.0086 - val_reg_l2_loss: 0.0631 - val_loss: 1.0557\n",
      "Epoch 2/50\n",
      "187/187 [==============================] - 26s 139ms/step - det_loss: 0.7851 - cls_loss: 0.4114 - box_loss: 0.0075 - reg_l2_loss: 0.0632 - loss: 0.8483 - learning_rate: 0.0100 - gradient_norm: 2.6940 - val_det_loss: 0.8342 - val_cls_loss: 0.4875 - val_box_loss: 0.0069 - val_reg_l2_loss: 0.0633 - val_loss: 0.8975\n",
      "Epoch 3/50\n",
      "187/187 [==============================] - 25s 132ms/step - det_loss: 0.7291 - cls_loss: 0.3893 - box_loss: 0.0068 - reg_l2_loss: 0.0634 - loss: 0.7925 - learning_rate: 0.0099 - gradient_norm: 2.5211 - val_det_loss: 0.7079 - val_cls_loss: 0.3998 - val_box_loss: 0.0062 - val_reg_l2_loss: 0.0634 - val_loss: 0.7714\n",
      "Epoch 4/50\n",
      "187/187 [==============================] - 24s 130ms/step - det_loss: 0.7018 - cls_loss: 0.3765 - box_loss: 0.0065 - reg_l2_loss: 0.0635 - loss: 0.7653 - learning_rate: 0.0099 - gradient_norm: 2.5057 - val_det_loss: 0.9243 - val_cls_loss: 0.5360 - val_box_loss: 0.0078 - val_reg_l2_loss: 0.0636 - val_loss: 0.9878\n",
      "Epoch 5/50\n",
      "187/187 [==============================] - ETA: 0s - det_loss: 0.6767 - cls_loss: 0.3637 - box_loss: 0.0063 - reg_l2_loss: 0.0636 - loss: 0.7403 - learning_rate: 0.0098 - gradient_norm: 2.4238"
     ]
    },
    {
     "name": "stderr",
     "output_type": "stream",
     "text": [
      "INFO:absl:use max_reduce for pre-nms topk.\n"
     ]
    },
    {
     "name": "stdout",
     "output_type": "stream",
     "text": [
      "loading annotations into memory...\n",
      "Done (t=0.00s)\n",
      "creating index...\n",
      "index created!\n",
      "Loading and preparing results...\n",
      "Converting ndarray to lists...\n",
      "(24800, 7)\n",
      "0/24800\n",
      "DONE (t=0.05s)\n",
      "creating index...\n",
      "index created!\n",
      "Running per image evaluation...\n",
      "Evaluate annotation type *bbox*\n",
      "DONE (t=1.87s).\n",
      "Accumulating evaluation results...\n",
      "DONE (t=0.18s).\n",
      " Average Precision  (AP) @[ IoU=0.50:0.95 | area=   all | maxDets=100 ] = 0.259\n",
      " Average Precision  (AP) @[ IoU=0.50      | area=   all | maxDets=100 ] = 0.558\n",
      " Average Precision  (AP) @[ IoU=0.75      | area=   all | maxDets=100 ] = 0.213\n",
      " Average Precision  (AP) @[ IoU=0.50:0.95 | area= small | maxDets=100 ] = 0.000\n",
      " Average Precision  (AP) @[ IoU=0.50:0.95 | area=medium | maxDets=100 ] = 0.104\n",
      " Average Precision  (AP) @[ IoU=0.50:0.95 | area= large | maxDets=100 ] = 0.338\n",
      " Average Recall     (AR) @[ IoU=0.50:0.95 | area=   all | maxDets=  1 ] = 0.173\n",
      " Average Recall     (AR) @[ IoU=0.50:0.95 | area=   all | maxDets= 10 ] = 0.340\n",
      " Average Recall     (AR) @[ IoU=0.50:0.95 | area=   all | maxDets=100 ] = 0.390\n",
      " Average Recall     (AR) @[ IoU=0.50:0.95 | area= small | maxDets=100 ] = 0.013\n",
      " Average Recall     (AR) @[ IoU=0.50:0.95 | area=medium | maxDets=100 ] = 0.226\n",
      " Average Recall     (AR) @[ IoU=0.50:0.95 | area= large | maxDets=100 ] = 0.488\n",
      "187/187 [==============================] - 33s 174ms/step - det_loss: 0.6771 - cls_loss: 0.3642 - box_loss: 0.0063 - reg_l2_loss: 0.0636 - loss: 0.7407 - learning_rate: 0.0098 - gradient_norm: 2.4270 - val_det_loss: 0.8040 - val_cls_loss: 0.4597 - val_box_loss: 0.0069 - val_reg_l2_loss: 0.0637 - val_loss: 0.8677\n",
      "Epoch 6/50\n",
      "187/187 [==============================] - 26s 139ms/step - det_loss: 0.6655 - cls_loss: 0.3574 - box_loss: 0.0062 - reg_l2_loss: 0.0638 - loss: 0.7292 - learning_rate: 0.0097 - gradient_norm: 2.4906 - val_det_loss: 0.8730 - val_cls_loss: 0.5385 - val_box_loss: 0.0067 - val_reg_l2_loss: 0.0638 - val_loss: 0.9368\n",
      "Epoch 7/50\n",
      "187/187 [==============================] - 26s 138ms/step - det_loss: 0.6489 - cls_loss: 0.3506 - box_loss: 0.0060 - reg_l2_loss: 0.0639 - loss: 0.7128 - learning_rate: 0.0096 - gradient_norm: 2.4762 - val_det_loss: 0.8513 - val_cls_loss: 0.5065 - val_box_loss: 0.0069 - val_reg_l2_loss: 0.0639 - val_loss: 0.9153\n",
      "Epoch 8/50\n",
      "187/187 [==============================] - 26s 138ms/step - det_loss: 0.6383 - cls_loss: 0.3442 - box_loss: 0.0059 - reg_l2_loss: 0.0640 - loss: 0.7023 - learning_rate: 0.0094 - gradient_norm: 2.4452 - val_det_loss: 0.9246 - val_cls_loss: 0.5821 - val_box_loss: 0.0068 - val_reg_l2_loss: 0.0641 - val_loss: 0.9887\n",
      "Epoch 9/50\n",
      "187/187 [==============================] - 25s 136ms/step - det_loss: 0.6357 - cls_loss: 0.3443 - box_loss: 0.0058 - reg_l2_loss: 0.0641 - loss: 0.6998 - learning_rate: 0.0093 - gradient_norm: 2.5535 - val_det_loss: 0.7386 - val_cls_loss: 0.4218 - val_box_loss: 0.0063 - val_reg_l2_loss: 0.0642 - val_loss: 0.8028\n",
      "Epoch 10/50\n",
      "187/187 [==============================] - ETA: 0s - det_loss: 0.6341 - cls_loss: 0.3409 - box_loss: 0.0059 - reg_l2_loss: 0.0642 - loss: 0.6983 - learning_rate: 0.0091 - gradient_norm: 2.5051loading annotations into memory...\n",
      "Done (t=0.01s)\n",
      "creating index...\n",
      "index created!\n",
      "Loading and preparing results...\n",
      "Converting ndarray to lists...\n",
      "(24800, 7)\n",
      "0/24800\n",
      "DONE (t=0.05s)\n",
      "creating index...\n",
      "index created!\n",
      "Running per image evaluation...\n",
      "Evaluate annotation type *bbox*\n",
      "DONE (t=1.83s).\n",
      "Accumulating evaluation results...\n",
      "DONE (t=0.18s).\n",
      " Average Precision  (AP) @[ IoU=0.50:0.95 | area=   all | maxDets=100 ] = 0.259\n",
      " Average Precision  (AP) @[ IoU=0.50      | area=   all | maxDets=100 ] = 0.540\n",
      " Average Precision  (AP) @[ IoU=0.75      | area=   all | maxDets=100 ] = 0.213\n",
      " Average Precision  (AP) @[ IoU=0.50:0.95 | area= small | maxDets=100 ] = 0.001\n",
      " Average Precision  (AP) @[ IoU=0.50:0.95 | area=medium | maxDets=100 ] = 0.087\n",
      " Average Precision  (AP) @[ IoU=0.50:0.95 | area= large | maxDets=100 ] = 0.338\n",
      " Average Recall     (AR) @[ IoU=0.50:0.95 | area=   all | maxDets=  1 ] = 0.175\n",
      " Average Recall     (AR) @[ IoU=0.50:0.95 | area=   all | maxDets= 10 ] = 0.339\n",
      " Average Recall     (AR) @[ IoU=0.50:0.95 | area=   all | maxDets=100 ] = 0.389\n",
      " Average Recall     (AR) @[ IoU=0.50:0.95 | area= small | maxDets=100 ] = 0.016\n",
      " Average Recall     (AR) @[ IoU=0.50:0.95 | area=medium | maxDets=100 ] = 0.223\n",
      " Average Recall     (AR) @[ IoU=0.50:0.95 | area= large | maxDets=100 ] = 0.485\n",
      "187/187 [==============================] - 29s 158ms/step - det_loss: 0.6335 - cls_loss: 0.3408 - box_loss: 0.0059 - reg_l2_loss: 0.0642 - loss: 0.6978 - learning_rate: 0.0091 - gradient_norm: 2.5024 - val_det_loss: 0.7802 - val_cls_loss: 0.4670 - val_box_loss: 0.0063 - val_reg_l2_loss: 0.0643 - val_loss: 0.8444\n",
      "Epoch 11/50\n",
      "187/187 [==============================] - 26s 139ms/step - det_loss: 0.6231 - cls_loss: 0.3375 - box_loss: 0.0057 - reg_l2_loss: 0.0643 - loss: 0.6875 - learning_rate: 0.0089 - gradient_norm: 2.4727 - val_det_loss: 0.7919 - val_cls_loss: 0.4715 - val_box_loss: 0.0064 - val_reg_l2_loss: 0.0644 - val_loss: 0.8562\n",
      "Epoch 12/50\n",
      "187/187 [==============================] - 26s 137ms/step - det_loss: 0.6255 - cls_loss: 0.3385 - box_loss: 0.0057 - reg_l2_loss: 0.0644 - loss: 0.6899 - learning_rate: 0.0087 - gradient_norm: 2.4848 - val_det_loss: 0.6998 - val_cls_loss: 0.3943 - val_box_loss: 0.0061 - val_reg_l2_loss: 0.0645 - val_loss: 0.7643\n",
      "Epoch 13/50\n",
      "187/187 [==============================] - 26s 140ms/step - det_loss: 0.6047 - cls_loss: 0.3285 - box_loss: 0.0055 - reg_l2_loss: 0.0645 - loss: 0.6692 - learning_rate: 0.0085 - gradient_norm: 2.5072 - val_det_loss: 0.6908 - val_cls_loss: 0.3977 - val_box_loss: 0.0059 - val_reg_l2_loss: 0.0645 - val_loss: 0.7553\n",
      "Epoch 14/50\n",
      "187/187 [==============================] - 26s 138ms/step - det_loss: 0.6040 - cls_loss: 0.3283 - box_loss: 0.0055 - reg_l2_loss: 0.0646 - loss: 0.6686 - learning_rate: 0.0082 - gradient_norm: 2.5211 - val_det_loss: 0.8145 - val_cls_loss: 0.5156 - val_box_loss: 0.0060 - val_reg_l2_loss: 0.0646 - val_loss: 0.8791\n",
      "Epoch 15/50\n",
      "187/187 [==============================] - ETA: 0s - det_loss: 0.5905 - cls_loss: 0.3183 - box_loss: 0.0054 - reg_l2_loss: 0.0647 - loss: 0.6551 - learning_rate: 0.0080 - gradient_norm: 2.4414loading annotations into memory...\n",
      "Done (t=0.01s)\n",
      "creating index...\n",
      "index created!\n",
      "Loading and preparing results...\n",
      "Converting ndarray to lists...\n",
      "(24800, 7)\n",
      "0/24800\n",
      "DONE (t=0.05s)\n",
      "creating index...\n",
      "index created!\n",
      "Running per image evaluation...\n",
      "Evaluate annotation type *bbox*\n",
      "DONE (t=1.85s).\n",
      "Accumulating evaluation results...\n",
      "DONE (t=0.23s).\n",
      " Average Precision  (AP) @[ IoU=0.50:0.95 | area=   all | maxDets=100 ] = 0.300\n",
      " Average Precision  (AP) @[ IoU=0.50      | area=   all | maxDets=100 ] = 0.592\n",
      " Average Precision  (AP) @[ IoU=0.75      | area=   all | maxDets=100 ] = 0.278\n",
      " Average Precision  (AP) @[ IoU=0.50:0.95 | area= small | maxDets=100 ] = 0.001\n",
      " Average Precision  (AP) @[ IoU=0.50:0.95 | area=medium | maxDets=100 ] = 0.117\n",
      " Average Precision  (AP) @[ IoU=0.50:0.95 | area= large | maxDets=100 ] = 0.387\n",
      " Average Recall     (AR) @[ IoU=0.50:0.95 | area=   all | maxDets=  1 ] = 0.191\n",
      " Average Recall     (AR) @[ IoU=0.50:0.95 | area=   all | maxDets= 10 ] = 0.377\n",
      " Average Recall     (AR) @[ IoU=0.50:0.95 | area=   all | maxDets=100 ] = 0.429\n",
      " Average Recall     (AR) @[ IoU=0.50:0.95 | area= small | maxDets=100 ] = 0.012\n",
      " Average Recall     (AR) @[ IoU=0.50:0.95 | area=medium | maxDets=100 ] = 0.247\n",
      " Average Recall     (AR) @[ IoU=0.50:0.95 | area= large | maxDets=100 ] = 0.538\n",
      "187/187 [==============================] - 31s 166ms/step - det_loss: 0.5901 - cls_loss: 0.3181 - box_loss: 0.0054 - reg_l2_loss: 0.0647 - loss: 0.6547 - learning_rate: 0.0080 - gradient_norm: 2.4409 - val_det_loss: 0.7288 - val_cls_loss: 0.4325 - val_box_loss: 0.0059 - val_reg_l2_loss: 0.0647 - val_loss: 0.7935\n",
      "Epoch 16/50\n",
      "187/187 [==============================] - 26s 141ms/step - det_loss: 0.5986 - cls_loss: 0.3239 - box_loss: 0.0055 - reg_l2_loss: 0.0647 - loss: 0.6633 - learning_rate: 0.0077 - gradient_norm: 2.5713 - val_det_loss: 0.7030 - val_cls_loss: 0.4132 - val_box_loss: 0.0058 - val_reg_l2_loss: 0.0648 - val_loss: 0.7678\n",
      "Epoch 17/50\n",
      "187/187 [==============================] - 26s 141ms/step - det_loss: 0.5851 - cls_loss: 0.3167 - box_loss: 0.0054 - reg_l2_loss: 0.0648 - loss: 0.6500 - learning_rate: 0.0075 - gradient_norm: 2.5131 - val_det_loss: 0.8309 - val_cls_loss: 0.5203 - val_box_loss: 0.0062 - val_reg_l2_loss: 0.0648 - val_loss: 0.8958\n",
      "Epoch 18/50\n",
      "187/187 [==============================] - 26s 139ms/step - det_loss: 0.5758 - cls_loss: 0.3111 - box_loss: 0.0053 - reg_l2_loss: 0.0649 - loss: 0.6407 - learning_rate: 0.0072 - gradient_norm: 2.4592 - val_det_loss: 0.6707 - val_cls_loss: 0.4021 - val_box_loss: 0.0054 - val_reg_l2_loss: 0.0649 - val_loss: 0.7356\n",
      "Epoch 19/50\n",
      "187/187 [==============================] - 27s 145ms/step - det_loss: 0.5748 - cls_loss: 0.3122 - box_loss: 0.0053 - reg_l2_loss: 0.0649 - loss: 0.6397 - learning_rate: 0.0069 - gradient_norm: 2.5427 - val_det_loss: 0.7629 - val_cls_loss: 0.4662 - val_box_loss: 0.0059 - val_reg_l2_loss: 0.0649 - val_loss: 0.8278\n",
      "Epoch 20/50\n",
      "187/187 [==============================] - ETA: 0s - det_loss: 0.5631 - cls_loss: 0.3056 - box_loss: 0.0051 - reg_l2_loss: 0.0650 - loss: 0.6280 - learning_rate: 0.0066 - gradient_norm: 2.4624loading annotations into memory...\n",
      "Done (t=0.01s)\n",
      "creating index...\n",
      "index created!\n",
      "Loading and preparing results...\n",
      "Converting ndarray to lists...\n",
      "(24800, 7)\n",
      "0/24800\n",
      "DONE (t=0.05s)\n",
      "creating index...\n",
      "index created!\n",
      "Running per image evaluation...\n",
      "Evaluate annotation type *bbox*\n",
      "DONE (t=1.84s).\n",
      "Accumulating evaluation results...\n",
      "DONE (t=0.19s).\n",
      " Average Precision  (AP) @[ IoU=0.50:0.95 | area=   all | maxDets=100 ] = 0.318\n",
      " Average Precision  (AP) @[ IoU=0.50      | area=   all | maxDets=100 ] = 0.604\n",
      " Average Precision  (AP) @[ IoU=0.75      | area=   all | maxDets=100 ] = 0.311\n",
      " Average Precision  (AP) @[ IoU=0.50:0.95 | area= small | maxDets=100 ] = 0.002\n",
      " Average Precision  (AP) @[ IoU=0.50:0.95 | area=medium | maxDets=100 ] = 0.113\n",
      " Average Precision  (AP) @[ IoU=0.50:0.95 | area= large | maxDets=100 ] = 0.413\n",
      " Average Recall     (AR) @[ IoU=0.50:0.95 | area=   all | maxDets=  1 ] = 0.201\n",
      " Average Recall     (AR) @[ IoU=0.50:0.95 | area=   all | maxDets= 10 ] = 0.389\n",
      " Average Recall     (AR) @[ IoU=0.50:0.95 | area=   all | maxDets=100 ] = 0.442\n",
      " Average Recall     (AR) @[ IoU=0.50:0.95 | area= small | maxDets=100 ] = 0.035\n",
      " Average Recall     (AR) @[ IoU=0.50:0.95 | area=medium | maxDets=100 ] = 0.251\n",
      " Average Recall     (AR) @[ IoU=0.50:0.95 | area= large | maxDets=100 ] = 0.553\n",
      "187/187 [==============================] - 31s 164ms/step - det_loss: 0.5624 - cls_loss: 0.3053 - box_loss: 0.0051 - reg_l2_loss: 0.0650 - loss: 0.6273 - learning_rate: 0.0066 - gradient_norm: 2.4614 - val_det_loss: 0.7409 - val_cls_loss: 0.4515 - val_box_loss: 0.0058 - val_reg_l2_loss: 0.0650 - val_loss: 0.8058\n",
      "Epoch 21/50\n",
      "187/187 [==============================] - 26s 139ms/step - det_loss: 0.5570 - cls_loss: 0.3025 - box_loss: 0.0051 - reg_l2_loss: 0.0650 - loss: 0.6220 - learning_rate: 0.0063 - gradient_norm: 2.5119 - val_det_loss: 0.7577 - val_cls_loss: 0.4621 - val_box_loss: 0.0059 - val_reg_l2_loss: 0.0650 - val_loss: 0.8227\n",
      "Epoch 22/50\n",
      "187/187 [==============================] - 26s 139ms/step - det_loss: 0.5572 - cls_loss: 0.3033 - box_loss: 0.0051 - reg_l2_loss: 0.0650 - loss: 0.6222 - learning_rate: 0.0060 - gradient_norm: 2.5131 - val_det_loss: 0.7156 - val_cls_loss: 0.4221 - val_box_loss: 0.0059 - val_reg_l2_loss: 0.0650 - val_loss: 0.7807\n",
      "Epoch 23/50\n",
      "187/187 [==============================] - 26s 137ms/step - det_loss: 0.5496 - cls_loss: 0.2990 - box_loss: 0.0050 - reg_l2_loss: 0.0650 - loss: 0.6146 - learning_rate: 0.0056 - gradient_norm: 2.5035 - val_det_loss: 0.7654 - val_cls_loss: 0.4573 - val_box_loss: 0.0062 - val_reg_l2_loss: 0.0650 - val_loss: 0.8304\n",
      "Epoch 24/50\n",
      "187/187 [==============================] - 26s 136ms/step - det_loss: 0.5344 - cls_loss: 0.2912 - box_loss: 0.0049 - reg_l2_loss: 0.0651 - loss: 0.5994 - learning_rate: 0.0053 - gradient_norm: 2.5221 - val_det_loss: 0.7081 - val_cls_loss: 0.4265 - val_box_loss: 0.0056 - val_reg_l2_loss: 0.0651 - val_loss: 0.7732\n",
      "Epoch 25/50\n",
      "187/187 [==============================] - ETA: 0s - det_loss: 0.5481 - cls_loss: 0.2962 - box_loss: 0.0050 - reg_l2_loss: 0.0651 - loss: 0.6131 - learning_rate: 0.0050 - gradient_norm: 2.6558loading annotations into memory...\n",
      "Done (t=0.01s)\n",
      "creating index...\n",
      "index created!\n",
      "Loading and preparing results...\n",
      "Converting ndarray to lists...\n",
      "(24800, 7)\n",
      "0/24800\n",
      "DONE (t=0.39s)\n",
      "creating index...\n",
      "index created!\n",
      "Running per image evaluation...\n",
      "Evaluate annotation type *bbox*\n",
      "DONE (t=1.83s).\n",
      "Accumulating evaluation results...\n",
      "DONE (t=0.20s).\n",
      " Average Precision  (AP) @[ IoU=0.50:0.95 | area=   all | maxDets=100 ] = 0.332\n",
      " Average Precision  (AP) @[ IoU=0.50      | area=   all | maxDets=100 ] = 0.618\n",
      " Average Precision  (AP) @[ IoU=0.75      | area=   all | maxDets=100 ] = 0.338\n",
      " Average Precision  (AP) @[ IoU=0.50:0.95 | area= small | maxDets=100 ] = 0.001\n",
      " Average Precision  (AP) @[ IoU=0.50:0.95 | area=medium | maxDets=100 ] = 0.122\n",
      " Average Precision  (AP) @[ IoU=0.50:0.95 | area= large | maxDets=100 ] = 0.430\n",
      " Average Recall     (AR) @[ IoU=0.50:0.95 | area=   all | maxDets=  1 ] = 0.208\n",
      " Average Recall     (AR) @[ IoU=0.50:0.95 | area=   all | maxDets= 10 ] = 0.404\n",
      " Average Recall     (AR) @[ IoU=0.50:0.95 | area=   all | maxDets=100 ] = 0.457\n",
      " Average Recall     (AR) @[ IoU=0.50:0.95 | area= small | maxDets=100 ] = 0.018\n",
      " Average Recall     (AR) @[ IoU=0.50:0.95 | area=medium | maxDets=100 ] = 0.263\n",
      " Average Recall     (AR) @[ IoU=0.50:0.95 | area= large | maxDets=100 ] = 0.571\n",
      "187/187 [==============================] - 30s 163ms/step - det_loss: 0.5487 - cls_loss: 0.2961 - box_loss: 0.0051 - reg_l2_loss: 0.0651 - loss: 0.6138 - learning_rate: 0.0050 - gradient_norm: 2.6554 - val_det_loss: 0.7209 - val_cls_loss: 0.4233 - val_box_loss: 0.0060 - val_reg_l2_loss: 0.0651 - val_loss: 0.7860\n",
      "Epoch 26/50\n",
      "187/187 [==============================] - 27s 143ms/step - det_loss: 0.5312 - cls_loss: 0.2882 - box_loss: 0.0049 - reg_l2_loss: 0.0651 - loss: 0.5963 - learning_rate: 0.0047 - gradient_norm: 2.5057 - val_det_loss: 0.7618 - val_cls_loss: 0.4599 - val_box_loss: 0.0060 - val_reg_l2_loss: 0.0651 - val_loss: 0.8269\n",
      "Epoch 27/50\n",
      "187/187 [==============================] - 26s 140ms/step - det_loss: 0.5323 - cls_loss: 0.2900 - box_loss: 0.0048 - reg_l2_loss: 0.0651 - loss: 0.5974 - learning_rate: 0.0044 - gradient_norm: 2.6608 - val_det_loss: 0.7093 - val_cls_loss: 0.4086 - val_box_loss: 0.0060 - val_reg_l2_loss: 0.0651 - val_loss: 0.7744\n",
      "Epoch 28/50\n",
      "187/187 [==============================] - 26s 140ms/step - det_loss: 0.5231 - cls_loss: 0.2855 - box_loss: 0.0048 - reg_l2_loss: 0.0651 - loss: 0.5882 - learning_rate: 0.0040 - gradient_norm: 2.5690 - val_det_loss: 0.8215 - val_cls_loss: 0.4721 - val_box_loss: 0.0070 - val_reg_l2_loss: 0.0651 - val_loss: 0.8866\n",
      "Epoch 29/50\n",
      "187/187 [==============================] - 27s 145ms/step - det_loss: 0.5190 - cls_loss: 0.2844 - box_loss: 0.0047 - reg_l2_loss: 0.0651 - loss: 0.5841 - learning_rate: 0.0037 - gradient_norm: 2.6358 - val_det_loss: 0.7768 - val_cls_loss: 0.4666 - val_box_loss: 0.0062 - val_reg_l2_loss: 0.0651 - val_loss: 0.8419\n",
      "Epoch 30/50\n",
      "187/187 [==============================] - ETA: 0s - det_loss: 0.5201 - cls_loss: 0.2823 - box_loss: 0.0048 - reg_l2_loss: 0.0651 - loss: 0.5852 - learning_rate: 0.0034 - gradient_norm: 2.6765loading annotations into memory...\n",
      "Done (t=0.01s)\n",
      "creating index...\n",
      "index created!\n",
      "Loading and preparing results...\n",
      "Converting ndarray to lists...\n",
      "(24800, 7)\n",
      "0/24800\n",
      "DONE (t=0.05s)\n",
      "creating index...\n",
      "index created!\n",
      "Running per image evaluation...\n",
      "Evaluate annotation type *bbox*\n",
      "DONE (t=1.84s).\n",
      "Accumulating evaluation results...\n",
      "DONE (t=0.19s).\n",
      " Average Precision  (AP) @[ IoU=0.50:0.95 | area=   all | maxDets=100 ] = 0.335\n",
      " Average Precision  (AP) @[ IoU=0.50      | area=   all | maxDets=100 ] = 0.614\n",
      " Average Precision  (AP) @[ IoU=0.75      | area=   all | maxDets=100 ] = 0.337\n",
      " Average Precision  (AP) @[ IoU=0.50:0.95 | area= small | maxDets=100 ] = 0.001\n",
      " Average Precision  (AP) @[ IoU=0.50:0.95 | area=medium | maxDets=100 ] = 0.125\n",
      " Average Precision  (AP) @[ IoU=0.50:0.95 | area= large | maxDets=100 ] = 0.431\n",
      " Average Recall     (AR) @[ IoU=0.50:0.95 | area=   all | maxDets=  1 ] = 0.210\n",
      " Average Recall     (AR) @[ IoU=0.50:0.95 | area=   all | maxDets= 10 ] = 0.409\n",
      " Average Recall     (AR) @[ IoU=0.50:0.95 | area=   all | maxDets=100 ] = 0.463\n",
      " Average Recall     (AR) @[ IoU=0.50:0.95 | area= small | maxDets=100 ] = 0.018\n",
      " Average Recall     (AR) @[ IoU=0.50:0.95 | area=medium | maxDets=100 ] = 0.271\n",
      " Average Recall     (AR) @[ IoU=0.50:0.95 | area= large | maxDets=100 ] = 0.570\n",
      "187/187 [==============================] - 30s 160ms/step - det_loss: 0.5208 - cls_loss: 0.2827 - box_loss: 0.0048 - reg_l2_loss: 0.0651 - loss: 0.5859 - learning_rate: 0.0034 - gradient_norm: 2.6836 - val_det_loss: 0.7644 - val_cls_loss: 0.4527 - val_box_loss: 0.0062 - val_reg_l2_loss: 0.0651 - val_loss: 0.8295\n",
      "Epoch 31/50\n",
      "187/187 [==============================] - 27s 147ms/step - det_loss: 0.5147 - cls_loss: 0.2822 - box_loss: 0.0047 - reg_l2_loss: 0.0651 - loss: 0.5799 - learning_rate: 0.0031 - gradient_norm: 2.6542 - val_det_loss: 0.7805 - val_cls_loss: 0.4671 - val_box_loss: 0.0063 - val_reg_l2_loss: 0.0651 - val_loss: 0.8456\n",
      "Epoch 32/50\n",
      "187/187 [==============================] - 27s 147ms/step - det_loss: 0.5085 - cls_loss: 0.2781 - box_loss: 0.0046 - reg_l2_loss: 0.0651 - loss: 0.5736 - learning_rate: 0.0028 - gradient_norm: 2.6540 - val_det_loss: 0.7744 - val_cls_loss: 0.4600 - val_box_loss: 0.0063 - val_reg_l2_loss: 0.0651 - val_loss: 0.8395\n",
      "Epoch 33/50\n",
      "187/187 [==============================] - 27s 145ms/step - det_loss: 0.5057 - cls_loss: 0.2767 - box_loss: 0.0046 - reg_l2_loss: 0.0651 - loss: 0.5708 - learning_rate: 0.0025 - gradient_norm: 2.5918 - val_det_loss: 0.7131 - val_cls_loss: 0.4201 - val_box_loss: 0.0059 - val_reg_l2_loss: 0.0651 - val_loss: 0.7782\n",
      "Epoch 34/50\n",
      "187/187 [==============================] - 27s 144ms/step - det_loss: 0.5038 - cls_loss: 0.2749 - box_loss: 0.0046 - reg_l2_loss: 0.0651 - loss: 0.5689 - learning_rate: 0.0023 - gradient_norm: 2.6490 - val_det_loss: 0.7645 - val_cls_loss: 0.4560 - val_box_loss: 0.0062 - val_reg_l2_loss: 0.0651 - val_loss: 0.8296\n",
      "Epoch 35/50\n",
      "187/187 [==============================] - ETA: 0s - det_loss: 0.4927 - cls_loss: 0.2708 - box_loss: 0.0044 - reg_l2_loss: 0.0651 - loss: 0.5578 - learning_rate: 0.0020 - gradient_norm: 2.5280loading annotations into memory...\n",
      "Done (t=0.01s)\n",
      "creating index...\n",
      "index created!\n",
      "Loading and preparing results...\n",
      "Converting ndarray to lists...\n",
      "(24800, 7)\n",
      "0/24800\n",
      "DONE (t=0.05s)\n",
      "creating index...\n",
      "index created!\n",
      "Running per image evaluation...\n",
      "Evaluate annotation type *bbox*\n",
      "DONE (t=2.14s).\n",
      "Accumulating evaluation results...\n",
      "DONE (t=0.19s).\n",
      " Average Precision  (AP) @[ IoU=0.50:0.95 | area=   all | maxDets=100 ] = 0.339\n",
      " Average Precision  (AP) @[ IoU=0.50      | area=   all | maxDets=100 ] = 0.615\n",
      " Average Precision  (AP) @[ IoU=0.75      | area=   all | maxDets=100 ] = 0.342\n",
      " Average Precision  (AP) @[ IoU=0.50:0.95 | area= small | maxDets=100 ] = 0.001\n",
      " Average Precision  (AP) @[ IoU=0.50:0.95 | area=medium | maxDets=100 ] = 0.128\n",
      " Average Precision  (AP) @[ IoU=0.50:0.95 | area= large | maxDets=100 ] = 0.437\n",
      " Average Recall     (AR) @[ IoU=0.50:0.95 | area=   all | maxDets=  1 ] = 0.213\n",
      " Average Recall     (AR) @[ IoU=0.50:0.95 | area=   all | maxDets= 10 ] = 0.414\n",
      " Average Recall     (AR) @[ IoU=0.50:0.95 | area=   all | maxDets=100 ] = 0.469\n",
      " Average Recall     (AR) @[ IoU=0.50:0.95 | area= small | maxDets=100 ] = 0.020\n",
      " Average Recall     (AR) @[ IoU=0.50:0.95 | area=medium | maxDets=100 ] = 0.262\n",
      " Average Recall     (AR) @[ IoU=0.50:0.95 | area= large | maxDets=100 ] = 0.585\n",
      "187/187 [==============================] - 32s 169ms/step - det_loss: 0.4923 - cls_loss: 0.2706 - box_loss: 0.0044 - reg_l2_loss: 0.0651 - loss: 0.5574 - learning_rate: 0.0020 - gradient_norm: 2.5269 - val_det_loss: 0.7043 - val_cls_loss: 0.4093 - val_box_loss: 0.0059 - val_reg_l2_loss: 0.0651 - val_loss: 0.7694\n",
      "Epoch 36/50\n",
      "187/187 [==============================] - 27s 145ms/step - det_loss: 0.4901 - cls_loss: 0.2686 - box_loss: 0.0044 - reg_l2_loss: 0.0651 - loss: 0.5551 - learning_rate: 0.0018 - gradient_norm: 2.5597 - val_det_loss: 0.7254 - val_cls_loss: 0.4223 - val_box_loss: 0.0061 - val_reg_l2_loss: 0.0651 - val_loss: 0.7905\n",
      "Epoch 37/50\n",
      "187/187 [==============================] - 27s 146ms/step - det_loss: 0.4838 - cls_loss: 0.2656 - box_loss: 0.0044 - reg_l2_loss: 0.0651 - loss: 0.5489 - learning_rate: 0.0015 - gradient_norm: 2.6124 - val_det_loss: 0.7221 - val_cls_loss: 0.4205 - val_box_loss: 0.0060 - val_reg_l2_loss: 0.0651 - val_loss: 0.7872\n",
      "Epoch 38/50\n",
      "187/187 [==============================] - 27s 145ms/step - det_loss: 0.4864 - cls_loss: 0.2679 - box_loss: 0.0044 - reg_l2_loss: 0.0651 - loss: 0.5515 - learning_rate: 0.0013 - gradient_norm: 2.6509 - val_det_loss: 0.6959 - val_cls_loss: 0.4074 - val_box_loss: 0.0058 - val_reg_l2_loss: 0.0651 - val_loss: 0.7609\n",
      "Epoch 39/50\n",
      "187/187 [==============================] - 27s 145ms/step - det_loss: 0.4840 - cls_loss: 0.2656 - box_loss: 0.0044 - reg_l2_loss: 0.0651 - loss: 0.5490 - learning_rate: 0.0011 - gradient_norm: 2.6369 - val_det_loss: 0.7303 - val_cls_loss: 0.4226 - val_box_loss: 0.0062 - val_reg_l2_loss: 0.0651 - val_loss: 0.7953\n",
      "Epoch 40/50\n",
      "187/187 [==============================] - ETA: 0s - det_loss: 0.4835 - cls_loss: 0.2640 - box_loss: 0.0044 - reg_l2_loss: 0.0651 - loss: 0.5486 - learning_rate: 9.0033e-04 - gradient_norm: 2.6508loading annotations into memory...\n",
      "Done (t=0.01s)\n",
      "creating index...\n",
      "index created!\n",
      "Loading and preparing results...\n",
      "Converting ndarray to lists...\n",
      "(24800, 7)\n",
      "0/24800\n",
      "DONE (t=0.06s)\n",
      "creating index...\n",
      "index created!\n",
      "Running per image evaluation...\n",
      "Evaluate annotation type *bbox*\n",
      "DONE (t=1.86s).\n",
      "Accumulating evaluation results...\n",
      "DONE (t=0.19s).\n",
      " Average Precision  (AP) @[ IoU=0.50:0.95 | area=   all | maxDets=100 ] = 0.341\n",
      " Average Precision  (AP) @[ IoU=0.50      | area=   all | maxDets=100 ] = 0.612\n",
      " Average Precision  (AP) @[ IoU=0.75      | area=   all | maxDets=100 ] = 0.349\n",
      " Average Precision  (AP) @[ IoU=0.50:0.95 | area= small | maxDets=100 ] = 0.001\n",
      " Average Precision  (AP) @[ IoU=0.50:0.95 | area=medium | maxDets=100 ] = 0.123\n",
      " Average Precision  (AP) @[ IoU=0.50:0.95 | area= large | maxDets=100 ] = 0.440\n",
      " Average Recall     (AR) @[ IoU=0.50:0.95 | area=   all | maxDets=  1 ] = 0.213\n",
      " Average Recall     (AR) @[ IoU=0.50:0.95 | area=   all | maxDets= 10 ] = 0.414\n",
      " Average Recall     (AR) @[ IoU=0.50:0.95 | area=   all | maxDets=100 ] = 0.467\n",
      " Average Recall     (AR) @[ IoU=0.50:0.95 | area= small | maxDets=100 ] = 0.022\n",
      " Average Recall     (AR) @[ IoU=0.50:0.95 | area=medium | maxDets=100 ] = 0.259\n",
      " Average Recall     (AR) @[ IoU=0.50:0.95 | area= large | maxDets=100 ] = 0.583\n",
      "187/187 [==============================] - 31s 168ms/step - det_loss: 0.4832 - cls_loss: 0.2638 - box_loss: 0.0044 - reg_l2_loss: 0.0651 - loss: 0.5483 - learning_rate: 8.9985e-04 - gradient_norm: 2.6484 - val_det_loss: 0.6938 - val_cls_loss: 0.4022 - val_box_loss: 0.0058 - val_reg_l2_loss: 0.0650 - val_loss: 0.7588\n",
      "Epoch 41/50\n",
      "187/187 [==============================] - 27s 145ms/step - det_loss: 0.4784 - cls_loss: 0.2627 - box_loss: 0.0043 - reg_l2_loss: 0.0650 - loss: 0.5435 - learning_rate: 7.2503e-04 - gradient_norm: 2.5816 - val_det_loss: 0.7009 - val_cls_loss: 0.4083 - val_box_loss: 0.0059 - val_reg_l2_loss: 0.0650 - val_loss: 0.7660\n",
      "Epoch 42/50\n",
      "187/187 [==============================] - 27s 144ms/step - det_loss: 0.4845 - cls_loss: 0.2655 - box_loss: 0.0044 - reg_l2_loss: 0.0650 - loss: 0.5495 - learning_rate: 5.6777e-04 - gradient_norm: 2.7092 - val_det_loss: 0.6940 - val_cls_loss: 0.3999 - val_box_loss: 0.0059 - val_reg_l2_loss: 0.0650 - val_loss: 0.7590\n",
      "Epoch 43/50\n",
      "187/187 [==============================] - 27s 145ms/step - det_loss: 0.4835 - cls_loss: 0.2633 - box_loss: 0.0044 - reg_l2_loss: 0.0650 - loss: 0.5485 - learning_rate: 4.2873e-04 - gradient_norm: 2.6495 - val_det_loss: 0.6969 - val_cls_loss: 0.4043 - val_box_loss: 0.0059 - val_reg_l2_loss: 0.0650 - val_loss: 0.7620\n",
      "Epoch 44/50\n",
      "187/187 [==============================] - 27s 144ms/step - det_loss: 0.4757 - cls_loss: 0.2599 - box_loss: 0.0043 - reg_l2_loss: 0.0650 - loss: 0.5407 - learning_rate: 3.0847e-04 - gradient_norm: 2.6352 - val_det_loss: 0.7097 - val_cls_loss: 0.4192 - val_box_loss: 0.0058 - val_reg_l2_loss: 0.0650 - val_loss: 0.7747\n",
      "Epoch 45/50\n",
      "187/187 [==============================] - ETA: 0s - det_loss: 0.4835 - cls_loss: 0.2648 - box_loss: 0.0044 - reg_l2_loss: 0.0650 - loss: 0.5485 - learning_rate: 2.0773e-04 - gradient_norm: 2.6644loading annotations into memory...\n",
      "Done (t=0.01s)\n",
      "creating index...\n",
      "index created!\n",
      "Loading and preparing results...\n",
      "Converting ndarray to lists...\n",
      "(24800, 7)\n",
      "0/24800\n",
      "DONE (t=0.05s)\n",
      "creating index...\n",
      "index created!\n",
      "Running per image evaluation...\n",
      "Evaluate annotation type *bbox*\n",
      "DONE (t=1.81s).\n",
      "Accumulating evaluation results...\n",
      "DONE (t=0.18s).\n",
      " Average Precision  (AP) @[ IoU=0.50:0.95 | area=   all | maxDets=100 ] = 0.345\n",
      " Average Precision  (AP) @[ IoU=0.50      | area=   all | maxDets=100 ] = 0.615\n",
      " Average Precision  (AP) @[ IoU=0.75      | area=   all | maxDets=100 ] = 0.362\n",
      " Average Precision  (AP) @[ IoU=0.50:0.95 | area= small | maxDets=100 ] = 0.001\n",
      " Average Precision  (AP) @[ IoU=0.50:0.95 | area=medium | maxDets=100 ] = 0.129\n",
      " Average Precision  (AP) @[ IoU=0.50:0.95 | area= large | maxDets=100 ] = 0.444\n",
      " Average Recall     (AR) @[ IoU=0.50:0.95 | area=   all | maxDets=  1 ] = 0.216\n",
      " Average Recall     (AR) @[ IoU=0.50:0.95 | area=   all | maxDets= 10 ] = 0.414\n",
      " Average Recall     (AR) @[ IoU=0.50:0.95 | area=   all | maxDets=100 ] = 0.469\n",
      " Average Recall     (AR) @[ IoU=0.50:0.95 | area= small | maxDets=100 ] = 0.018\n",
      " Average Recall     (AR) @[ IoU=0.50:0.95 | area=medium | maxDets=100 ] = 0.269\n",
      " Average Recall     (AR) @[ IoU=0.50:0.95 | area= large | maxDets=100 ] = 0.584\n",
      "187/187 [==============================] - 31s 165ms/step - det_loss: 0.4834 - cls_loss: 0.2647 - box_loss: 0.0044 - reg_l2_loss: 0.0650 - loss: 0.5485 - learning_rate: 2.0749e-04 - gradient_norm: 2.6669 - val_det_loss: 0.7087 - val_cls_loss: 0.4170 - val_box_loss: 0.0058 - val_reg_l2_loss: 0.0650 - val_loss: 0.7737\n",
      "Epoch 46/50\n",
      "187/187 [==============================] - 27s 146ms/step - det_loss: 0.4798 - cls_loss: 0.2640 - box_loss: 0.0043 - reg_l2_loss: 0.0650 - loss: 0.5448 - learning_rate: 1.2621e-04 - gradient_norm: 2.5782 - val_det_loss: 0.7050 - val_cls_loss: 0.4148 - val_box_loss: 0.0058 - val_reg_l2_loss: 0.0650 - val_loss: 0.7700\n",
      "Epoch 47/50\n",
      "187/187 [==============================] - 27s 145ms/step - det_loss: 0.4741 - cls_loss: 0.2593 - box_loss: 0.0043 - reg_l2_loss: 0.0650 - loss: 0.5391 - learning_rate: 6.4947e-05 - gradient_norm: 2.5922 - val_det_loss: 0.7091 - val_cls_loss: 0.4177 - val_box_loss: 0.0058 - val_reg_l2_loss: 0.0650 - val_loss: 0.7742\n",
      "Epoch 48/50\n",
      "187/187 [==============================] - 27s 144ms/step - det_loss: 0.4772 - cls_loss: 0.2595 - box_loss: 0.0044 - reg_l2_loss: 0.0650 - loss: 0.5423 - learning_rate: 2.3966e-05 - gradient_norm: 2.5970 - val_det_loss: 0.7102 - val_cls_loss: 0.4172 - val_box_loss: 0.0059 - val_reg_l2_loss: 0.0650 - val_loss: 0.7753\n",
      "Epoch 49/50\n",
      "187/187 [==============================] - 27s 145ms/step - det_loss: 0.4716 - cls_loss: 0.2582 - box_loss: 0.0043 - reg_l2_loss: 0.0650 - loss: 0.5366 - learning_rate: 3.4340e-06 - gradient_norm: 2.6547 - val_det_loss: 0.7078 - val_cls_loss: 0.4165 - val_box_loss: 0.0058 - val_reg_l2_loss: 0.0650 - val_loss: 0.7729\n",
      "Epoch 50/50\n",
      "187/187 [==============================] - ETA: 0s - det_loss: 0.4781 - cls_loss: 0.2616 - box_loss: 0.0043 - reg_l2_loss: 0.0650 - loss: 0.5432 - learning_rate: 3.3974e-06 - gradient_norm: 2.6662loading annotations into memory...\n",
      "Done (t=0.01s)\n",
      "creating index...\n",
      "index created!\n",
      "Loading and preparing results...\n",
      "Converting ndarray to lists...\n",
      "(24800, 7)\n",
      "0/24800\n",
      "DONE (t=0.37s)\n",
      "creating index...\n",
      "index created!\n",
      "Running per image evaluation...\n",
      "Evaluate annotation type *bbox*\n",
      "DONE (t=1.79s).\n",
      "Accumulating evaluation results...\n",
      "DONE (t=0.19s).\n",
      " Average Precision  (AP) @[ IoU=0.50:0.95 | area=   all | maxDets=100 ] = 0.345\n",
      " Average Precision  (AP) @[ IoU=0.50      | area=   all | maxDets=100 ] = 0.616\n",
      " Average Precision  (AP) @[ IoU=0.75      | area=   all | maxDets=100 ] = 0.356\n",
      " Average Precision  (AP) @[ IoU=0.50:0.95 | area= small | maxDets=100 ] = 0.001\n",
      " Average Precision  (AP) @[ IoU=0.50:0.95 | area=medium | maxDets=100 ] = 0.127\n",
      " Average Precision  (AP) @[ IoU=0.50:0.95 | area= large | maxDets=100 ] = 0.444\n",
      " Average Recall     (AR) @[ IoU=0.50:0.95 | area=   all | maxDets=  1 ] = 0.216\n",
      " Average Recall     (AR) @[ IoU=0.50:0.95 | area=   all | maxDets= 10 ] = 0.415\n",
      " Average Recall     (AR) @[ IoU=0.50:0.95 | area=   all | maxDets=100 ] = 0.471\n",
      " Average Recall     (AR) @[ IoU=0.50:0.95 | area= small | maxDets=100 ] = 0.021\n",
      " Average Recall     (AR) @[ IoU=0.50:0.95 | area=medium | maxDets=100 ] = 0.266\n",
      " Average Recall     (AR) @[ IoU=0.50:0.95 | area= large | maxDets=100 ] = 0.587\n",
      "187/187 [==============================] - 31s 164ms/step - det_loss: 0.4785 - cls_loss: 0.2618 - box_loss: 0.0043 - reg_l2_loss: 0.0650 - loss: 0.5435 - learning_rate: 3.4334e-06 - gradient_norm: 2.6641 - val_det_loss: 0.7121 - val_cls_loss: 0.4196 - val_box_loss: 0.0058 - val_reg_l2_loss: 0.0650 - val_loss: 0.7771\n"
     ]
    }
   ],
   "source": [
    "model = object_detector.create(\n",
    "  train_data, \n",
    "  model_spec=spec, \n",
    "  batch_size=8, \n",
    "  train_whole_model=True, \n",
    "  validation_data=validate_data\n",
    ")"
   ]
  },
  {
   "cell_type": "code",
   "execution_count": 6,
   "metadata": {},
   "outputs": [
    {
     "name": "stderr",
     "output_type": "stream",
     "text": [
      "INFO:absl:use max_reduce for pre-nms topk.\n",
      "2022-09-28 04:07:58.490120: W tensorflow/core/common_runtime/bfc_allocator.cc:290] Allocator (GPU_0_bfc) ran out of memory trying to allocate 3.04GiB with freed_by_count=0. The caller indicates that this is not a failure, but this may mean that there could be performance gains if more memory were available.\n",
      "2022-09-28 04:07:58.490156: W tensorflow/core/common_runtime/bfc_allocator.cc:290] Allocator (GPU_0_bfc) ran out of memory trying to allocate 3.04GiB with freed_by_count=0. The caller indicates that this is not a failure, but this may mean that there could be performance gains if more memory were available.\n"
     ]
    },
    {
     "name": "stdout",
     "output_type": "stream",
     "text": [
      "3/4 [=====================>........] - ETA: 0s"
     ]
    },
    {
     "name": "stderr",
     "output_type": "stream",
     "text": [
      "INFO:absl:use max_reduce for pre-nms topk.\n",
      "2022-09-28 04:08:04.279254: W tensorflow/core/common_runtime/bfc_allocator.cc:290] Allocator (GPU_0_bfc) ran out of memory trying to allocate 2.75GiB with freed_by_count=0. The caller indicates that this is not a failure, but this may mean that there could be performance gains if more memory were available.\n",
      "2022-09-28 04:08:04.279288: W tensorflow/core/common_runtime/bfc_allocator.cc:290] Allocator (GPU_0_bfc) ran out of memory trying to allocate 2.75GiB with freed_by_count=0. The caller indicates that this is not a failure, but this may mean that there could be performance gains if more memory were available.\n"
     ]
    },
    {
     "name": "stdout",
     "output_type": "stream",
     "text": [
      "4/4 [==============================] - 12s 2s/step\n",
      "\n",
      "loading annotations into memory...\n",
      "Done (t=0.00s)\n",
      "creating index...\n",
      "index created!\n",
      "Loading and preparing results...\n",
      "Converting ndarray to lists...\n",
      "(25000, 7)\n",
      "0/25000\n",
      "DONE (t=0.05s)\n",
      "creating index...\n",
      "index created!\n",
      "Running per image evaluation...\n",
      "Evaluate annotation type *bbox*\n",
      "DONE (t=1.60s).\n",
      "Accumulating evaluation results...\n",
      "DONE (t=0.18s).\n",
      " Average Precision  (AP) @[ IoU=0.50:0.95 | area=   all | maxDets=100 ] = 0.358\n",
      " Average Precision  (AP) @[ IoU=0.50      | area=   all | maxDets=100 ] = 0.637\n",
      " Average Precision  (AP) @[ IoU=0.75      | area=   all | maxDets=100 ] = 0.352\n",
      " Average Precision  (AP) @[ IoU=0.50:0.95 | area= small | maxDets=100 ] = 0.000\n",
      " Average Precision  (AP) @[ IoU=0.50:0.95 | area=medium | maxDets=100 ] = 0.123\n",
      " Average Precision  (AP) @[ IoU=0.50:0.95 | area= large | maxDets=100 ] = 0.442\n",
      " Average Recall     (AR) @[ IoU=0.50:0.95 | area=   all | maxDets=  1 ] = 0.245\n",
      " Average Recall     (AR) @[ IoU=0.50:0.95 | area=   all | maxDets= 10 ] = 0.437\n",
      " Average Recall     (AR) @[ IoU=0.50:0.95 | area=   all | maxDets=100 ] = 0.487\n",
      " Average Recall     (AR) @[ IoU=0.50:0.95 | area= small | maxDets=100 ] = 0.014\n",
      " Average Recall     (AR) @[ IoU=0.50:0.95 | area=medium | maxDets=100 ] = 0.249\n",
      " Average Recall     (AR) @[ IoU=0.50:0.95 | area= large | maxDets=100 ] = 0.585\n"
     ]
    },
    {
     "data": {
      "text/plain": [
       "{'AP': 0.35790035,\n",
       " 'AP50': 0.6368026,\n",
       " 'AP75': 0.3518009,\n",
       " 'APs': 0.00017806508,\n",
       " 'APm': 0.123154305,\n",
       " 'APl': 0.44201422,\n",
       " 'ARmax1': 0.24485743,\n",
       " 'ARmax10': 0.43656155,\n",
       " 'ARmax100': 0.48675883,\n",
       " 'ARs': 0.014356435,\n",
       " 'ARm': 0.2494898,\n",
       " 'ARl': 0.5846347,\n",
       " 'AP_/Person': 0.21012847,\n",
       " 'AP_/Horse': 0.5056722}"
      ]
     },
     "execution_count": 6,
     "metadata": {},
     "output_type": "execute_result"
    }
   ],
   "source": [
    "model.evaluate(test_data)\n"
   ]
  },
  {
   "cell_type": "code",
   "execution_count": 8,
   "metadata": {},
   "outputs": [
    {
     "name": "stdout",
     "output_type": "stream",
     "text": [
      "WARNING:tensorflow:Skipping full serialization of Keras layer <tensorflow_examples.lite.model_maker.core.task.model_spec.object_detector_spec.ExportModel object at 0x7f58084765e0>, because it is not built.\n"
     ]
    },
    {
     "name": "stderr",
     "output_type": "stream",
     "text": [
      "WARNING:tensorflow:Skipping full serialization of Keras layer <tensorflow_examples.lite.model_maker.core.task.model_spec.object_detector_spec.ExportModel object at 0x7f58084765e0>, because it is not built.\n",
      "WARNING:absl:Found untraced functions such as _jit_compiled_convolution_op, _jit_compiled_convolution_op, restored_function_body, restored_function_body, restored_function_body while saving (showing 5 of 610). These functions will not be directly callable after loading.\n"
     ]
    },
    {
     "name": "stdout",
     "output_type": "stream",
     "text": [
      "INFO:tensorflow:Assets written to: /tmp/tmpkj4j57h5/assets\n"
     ]
    },
    {
     "name": "stderr",
     "output_type": "stream",
     "text": [
      "INFO:tensorflow:Assets written to: /tmp/tmpkj4j57h5/assets\n",
      "2022-09-28 04:11:09.754018: W tensorflow/core/common_runtime/graph_constructor.cc:805] Node 'resample_p7/PartitionedCall' has 1 outputs but the _output_shapes attribute specifies shapes for 3 outputs. Output shapes may be inaccurate.\n",
      "2022-09-28 04:11:15.436031: W tensorflow/compiler/mlir/lite/python/tf_tfl_flatbuffer_helpers.cc:362] Ignored output_format.\n",
      "2022-09-28 04:11:15.436054: W tensorflow/compiler/mlir/lite/python/tf_tfl_flatbuffer_helpers.cc:365] Ignored drop_control_dependency.\n"
     ]
    },
    {
     "name": "stdout",
     "output_type": "stream",
     "text": [
      "Estimated count of arithmetic ops: 1.752 G  ops, equivalently 0.876 G  MACs\n"
     ]
    },
    {
     "name": "stderr",
     "output_type": "stream",
     "text": [
      "fully_quantize: 0, inference_type: 6, input_inference_type: 3, output_inference_type: 0\n"
     ]
    },
    {
     "name": "stdout",
     "output_type": "stream",
     "text": [
      "Estimated count of arithmetic ops: 1.752 G  ops, equivalently 0.876 G  MACs\n",
      "INFO:tensorflow:Label file is inside the TFLite model with metadata.\n"
     ]
    },
    {
     "name": "stderr",
     "output_type": "stream",
     "text": [
      "INFO:tensorflow:Label file is inside the TFLite model with metadata.\n"
     ]
    },
    {
     "name": "stdout",
     "output_type": "stream",
     "text": [
      "INFO:tensorflow:Saving labels in /tmp/tmpn4pcgxp4/labelmap.txt.\n"
     ]
    },
    {
     "name": "stderr",
     "output_type": "stream",
     "text": [
      "INFO:tensorflow:Saving labels in /tmp/tmpn4pcgxp4/labelmap.txt.\n"
     ]
    },
    {
     "name": "stdout",
     "output_type": "stream",
     "text": [
      "INFO:tensorflow:TensorFlow Lite model exported successfully: ./model.tflite\n"
     ]
    },
    {
     "name": "stderr",
     "output_type": "stream",
     "text": [
      "INFO:tensorflow:TensorFlow Lite model exported successfully: ./model.tflite\n"
     ]
    }
   ],
   "source": [
    "model.export(export_dir='.')"
   ]
  },
  {
   "cell_type": "code",
   "execution_count": 9,
   "metadata": {},
   "outputs": [
    {
     "name": "stderr",
     "output_type": "stream",
     "text": [
      "INFO: Created TensorFlow Lite XNNPACK delegate for CPU.\n"
     ]
    },
    {
     "name": "stdout",
     "output_type": "stream",
     "text": [
      "250/250 [==============================] - 28s 112ms/step\n",
      "\n",
      "loading annotations into memory...\n",
      "Done (t=0.00s)\n",
      "creating index...\n",
      "index created!\n",
      "Loading and preparing results...\n",
      "Converting ndarray to lists...\n",
      "(6250, 7)\n",
      "0/6250\n",
      "DONE (t=0.01s)\n",
      "creating index...\n",
      "index created!\n",
      "Running per image evaluation...\n",
      "Evaluate annotation type *bbox*\n",
      "DONE (t=0.53s).\n",
      "Accumulating evaluation results...\n",
      "DONE (t=0.08s).\n",
      " Average Precision  (AP) @[ IoU=0.50:0.95 | area=   all | maxDets=100 ] = 0.345\n",
      " Average Precision  (AP) @[ IoU=0.50      | area=   all | maxDets=100 ] = 0.617\n",
      " Average Precision  (AP) @[ IoU=0.75      | area=   all | maxDets=100 ] = 0.332\n",
      " Average Precision  (AP) @[ IoU=0.50:0.95 | area= small | maxDets=100 ] = 0.000\n",
      " Average Precision  (AP) @[ IoU=0.50:0.95 | area=medium | maxDets=100 ] = 0.120\n",
      " Average Precision  (AP) @[ IoU=0.50:0.95 | area= large | maxDets=100 ] = 0.425\n",
      " Average Recall     (AR) @[ IoU=0.50:0.95 | area=   all | maxDets=  1 ] = 0.246\n",
      " Average Recall     (AR) @[ IoU=0.50:0.95 | area=   all | maxDets= 10 ] = 0.408\n",
      " Average Recall     (AR) @[ IoU=0.50:0.95 | area=   all | maxDets=100 ] = 0.421\n",
      " Average Recall     (AR) @[ IoU=0.50:0.95 | area= small | maxDets=100 ] = 0.002\n",
      " Average Recall     (AR) @[ IoU=0.50:0.95 | area=medium | maxDets=100 ] = 0.181\n",
      " Average Recall     (AR) @[ IoU=0.50:0.95 | area= large | maxDets=100 ] = 0.518\n"
     ]
    },
    {
     "data": {
      "text/plain": [
       "{'AP': 0.3451733,\n",
       " 'AP50': 0.6173619,\n",
       " 'AP75': 0.33190426,\n",
       " 'APs': 0.00017721478,\n",
       " 'APm': 0.120477505,\n",
       " 'APl': 0.42545494,\n",
       " 'ARmax1': 0.24624386,\n",
       " 'ARmax10': 0.4082102,\n",
       " 'ARmax100': 0.42124623,\n",
       " 'ARs': 0.0024752475,\n",
       " 'ARm': 0.1806187,\n",
       " 'ARl': 0.5175608,\n",
       " 'AP_/Person': 0.20550084,\n",
       " 'AP_/Horse': 0.48484576}"
      ]
     },
     "execution_count": 9,
     "metadata": {},
     "output_type": "execute_result"
    }
   ],
   "source": [
    "model.evaluate_tflite('model.tflite', test_data)"
   ]
  }
 ],
 "metadata": {
  "kernelspec": {
   "display_name": "Python 3.10.4 ('ml-tf-aa')",
   "language": "python",
   "name": "python3"
  },
  "language_info": {
   "codemirror_mode": {
    "name": "ipython",
    "version": 3
   },
   "file_extension": ".py",
   "mimetype": "text/x-python",
   "name": "python",
   "nbconvert_exporter": "python",
   "pygments_lexer": "ipython3",
   "version": "3.9.13"
  },
  "orig_nbformat": 4,
  "vscode": {
   "interpreter": {
    "hash": "019c07c7645f56a5a2dc80edb2dfb50916bedd947781f181c6d53d38f608f51a"
   }
  }
 },
 "nbformat": 4,
 "nbformat_minor": 2
}
