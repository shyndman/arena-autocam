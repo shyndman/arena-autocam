{
 "cells": [
  {
   "cell_type": "code",
   "execution_count": null,
   "metadata": {},
   "outputs": [],
   "source": [
    "%matplotlib inline"
   ]
  },
  {
   "cell_type": "code",
   "execution_count": null,
   "metadata": {},
   "outputs": [],
   "source": [
    "import fiftyone as fo\n",
    "import fiftyone.zoo as foz\n",
    "\n",
    "dataset = foz.load_zoo_dataset(\n",
    "    \"open-images-v6\",\n",
    "    split=\"train\",\n",
    "    classes=[\"Person\", \"Horse\"],\n",
    "    label_types=[\"detections\"],\n",
    "    max_samples=2000,\n",
    "    shuffle=True,\n",
    ")"
   ]
  },
  {
   "cell_type": "code",
   "execution_count": null,
   "metadata": {},
   "outputs": [],
   "source": [
    "# Optionally view the dataset\n",
    "session = fo.launch_app(dataset)"
   ]
  },
  {
   "cell_type": "code",
   "execution_count": null,
   "metadata": {},
   "outputs": [],
   "source": [
    "from fiftyone import ViewField as F, DatasetView\n",
    "\n",
    "valid_labels = [\"Person\", \"Horse\"]\n",
    "valid_labels_view: DatasetView = dataset.filter_labels(\n",
    "    \"detections\", F(\"label\").is_in(valid_labels)\n",
    ")\n",
    "\n",
    "print(len(valid_labels_view))"
   ]
  },
  {
   "cell_type": "code",
   "execution_count": null,
   "metadata": {},
   "outputs": [],
   "source": [
    "# The directory to which to write the exported dataset\n",
    "export_dir = \"dataset\"\n",
    "\n",
    "# The name of the sample field containing the label that you wish to export\n",
    "# Used when exporting labeled datasets (e.g., classification or detection)\n",
    "label_field = \"detections\"  # for example\n",
    "\n",
    "# The type of dataset to export\n",
    "# Any subclass of `fiftyone.types.Dataset` is supported\n",
    "dataset_type = fo.types.VOCDetectionDataset\n",
    "\n",
    "# Export the dataset\n",
    "valid_labels_view.export(\n",
    "    export_dir=export_dir,\n",
    "    dataset_type=dataset_type,\n",
    "    label_field=label_field,\n",
    ")"
   ]
  },
  {
   "cell_type": "markdown",
   "metadata": {},
   "source": [
    "Walk over the label XML and add some information necessary for Tensorflow's Model Maker, writing out the transformation to a `dataset/tf_labels` folder."
   ]
  },
  {
   "cell_type": "code",
   "execution_count": null,
   "metadata": {},
   "outputs": [],
   "source": [
    "import os\n",
    "import xml.etree.ElementTree as ET\n",
    "\n",
    "mappings = {\"Person\": 1, \"Horse\": 2}\n",
    "labels_dir = \"dataset/labels\"\n",
    "tf_labels_dir = \"dataset/tf_labels\"\n",
    "\n",
    "os.makedirs(tf_labels_dir, exist_ok=True)\n",
    "\n",
    "for label_file_name in os.listdir(labels_dir):\n",
    "  path = f\"{labels_dir}/{label_file_name}\"\n",
    "  tf_path = f\"{tf_labels_dir}/{label_file_name}\"\n",
    "  doc = ET.parse(path)\n",
    "  root = doc.getroot()\n",
    "\n",
    "  for obj_el in root.iter(\"object\"):\n",
    "    ET.SubElement(obj_el, \"pose\")\n",
    "    ET.SubElement(obj_el, \"difficult\").text = \"0\"\n",
    "\n",
    "    truncated_el = obj_el.find(\"IsTruncated\")\n",
    "    truncated_flag = \"0\"\n",
    "    if truncated_el is None: \n",
    "      truncated_flag = \"0\" \n",
    "    elif truncated_el.text == \"True\":\n",
    "      truncated_flag = \"1\"\n",
    "    ET.SubElement(obj_el, \"truncated\").text = truncated_flag\n",
    "\n",
    "  doc.write(tf_path)\n"
   ]
  }
 ],
 "metadata": {
  "kernelspec": {
   "display_name": "Python 3.9.13 ('ml-tf-aa')",
   "language": "python",
   "name": "python3"
  },
  "language_info": {
   "codemirror_mode": {
    "name": "ipython",
    "version": 3
   },
   "file_extension": ".py",
   "mimetype": "text/x-python",
   "name": "python",
   "nbconvert_exporter": "python",
   "pygments_lexer": "ipython3",
   "version": "3.9.13"
  },
  "orig_nbformat": 4,
  "vscode": {
   "interpreter": {
    "hash": "019c07c7645f56a5a2dc80edb2dfb50916bedd947781f181c6d53d38f608f51a"
   }
  }
 },
 "nbformat": 4,
 "nbformat_minor": 2
}
