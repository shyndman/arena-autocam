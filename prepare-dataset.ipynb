{
 "cells": [
  {
   "cell_type": "code",
   "execution_count": 1,
   "metadata": {},
   "outputs": [
    {
     "name": "stderr",
     "output_type": "stream",
     "text": [
      "\u001b[1m\u001b[1mINFO    \u001b[0m\u001b[1m\u001b[0m - \u001b[1mThe mmdet config folder already exists. No need to downloaded it. Path : /home/shyndman/.icevision/mmdetection_configs/mmdetection_configs-2.20.1/configs\u001b[0m | \u001b[36micevision.models.mmdet.download_configs\u001b[0m:\u001b[36mdownload_mmdet_configs\u001b[0m:\u001b[36m17\u001b[0m\n"
     ]
    }
   ],
   "source": [
    "%matplotlib inline\n",
    "from icevision import *\n",
    "from icedata import *"
   ]
  },
  {
   "cell_type": "code",
   "execution_count": 2,
   "metadata": {},
   "outputs": [
    {
     "name": "stdout",
     "output_type": "stream",
     "text": [
      "Downloading split 'train' to '/home/shyndman/fiftyone/open-images-v6/train' if necessary\n"
     ]
    },
    {
     "name": "stderr",
     "output_type": "stream",
     "text": [
      "09/12/2022 22:20:47 - INFO - fiftyone.zoo.datasets -   Downloading split 'train' to '/home/shyndman/fiftyone/open-images-v6/train' if necessary\n"
     ]
    },
    {
     "name": "stdout",
     "output_type": "stream",
     "text": [
      "Downloading 'https://storage.googleapis.com/openimages/2018_04/train/train-images-boxable-with-rotation.csv' to '/home/shyndman/fiftyone/open-images-v6/train/metadata/image_ids.csv'\n"
     ]
    },
    {
     "name": "stderr",
     "output_type": "stream",
     "text": [
      "09/12/2022 22:20:47 - INFO - fiftyone.utils.openimages -   Downloading 'https://storage.googleapis.com/openimages/2018_04/train/train-images-boxable-with-rotation.csv' to '/home/shyndman/fiftyone/open-images-v6/train/metadata/image_ids.csv'\n"
     ]
    },
    {
     "name": "stdout",
     "output_type": "stream",
     "text": [
      " 100% |██████|    4.8Gb/4.8Gb [1.2m elapsed, 0s remaining, 66.4Mb/s]      \n"
     ]
    },
    {
     "name": "stderr",
     "output_type": "stream",
     "text": [
      "09/12/2022 22:21:58 - INFO - eta.core.utils -    100% |██████|    4.8Gb/4.8Gb [1.2m elapsed, 0s remaining, 66.4Mb/s]      \n"
     ]
    },
    {
     "name": "stdout",
     "output_type": "stream",
     "text": [
      "Downloading 'https://storage.googleapis.com/openimages/v5/class-descriptions-boxable.csv' to '/home/shyndman/fiftyone/open-images-v6/train/metadata/classes.csv'\n"
     ]
    },
    {
     "name": "stderr",
     "output_type": "stream",
     "text": [
      "09/12/2022 22:22:10 - INFO - fiftyone.utils.openimages -   Downloading 'https://storage.googleapis.com/openimages/v5/class-descriptions-boxable.csv' to '/home/shyndman/fiftyone/open-images-v6/train/metadata/classes.csv'\n"
     ]
    },
    {
     "name": "stdout",
     "output_type": "stream",
     "text": [
      "Downloading 'https://storage.googleapis.com/openimages/2018_04/bbox_labels_600_hierarchy.json' to '/tmp/tmpgleo738n/metadata/hierarchy.json'\n"
     ]
    },
    {
     "name": "stderr",
     "output_type": "stream",
     "text": [
      "09/12/2022 22:22:10 - INFO - fiftyone.utils.openimages -   Downloading 'https://storage.googleapis.com/openimages/2018_04/bbox_labels_600_hierarchy.json' to '/tmp/tmpgleo738n/metadata/hierarchy.json'\n"
     ]
    },
    {
     "name": "stdout",
     "output_type": "stream",
     "text": [
      "Downloading 'https://storage.googleapis.com/openimages/v6/oidv6-train-annotations-bbox.csv' to '/home/shyndman/fiftyone/open-images-v6/train/labels/detections.csv'\n"
     ]
    },
    {
     "name": "stderr",
     "output_type": "stream",
     "text": [
      "09/12/2022 22:22:11 - INFO - fiftyone.utils.openimages -   Downloading 'https://storage.googleapis.com/openimages/v6/oidv6-train-annotations-bbox.csv' to '/home/shyndman/fiftyone/open-images-v6/train/labels/detections.csv'\n"
     ]
    },
    {
     "name": "stdout",
     "output_type": "stream",
     "text": [
      "Downloading 2000 images\n"
     ]
    },
    {
     "name": "stderr",
     "output_type": "stream",
     "text": [
      "09/12/2022 22:29:01 - INFO - fiftyone.utils.openimages -   Downloading 2000 images\n"
     ]
    },
    {
     "name": "stdout",
     "output_type": "stream",
     "text": [
      " 100% |█████████████████| 2000/2000 [2.0m elapsed, 0s remaining, 18.9 files/s]      \n"
     ]
    },
    {
     "name": "stderr",
     "output_type": "stream",
     "text": [
      "09/12/2022 22:31:00 - INFO - eta.core.utils -    100% |█████████████████| 2000/2000 [2.0m elapsed, 0s remaining, 18.9 files/s]      \n"
     ]
    },
    {
     "name": "stdout",
     "output_type": "stream",
     "text": [
      "Dataset info written to '/home/shyndman/fiftyone/open-images-v6/info.json'\n"
     ]
    },
    {
     "name": "stderr",
     "output_type": "stream",
     "text": [
      "09/12/2022 22:31:00 - INFO - fiftyone.zoo.datasets -   Dataset info written to '/home/shyndman/fiftyone/open-images-v6/info.json'\n"
     ]
    },
    {
     "name": "stdout",
     "output_type": "stream",
     "text": [
      "Loading 'open-images-v6' split 'train'\n"
     ]
    },
    {
     "name": "stderr",
     "output_type": "stream",
     "text": [
      "09/12/2022 22:31:00 - INFO - fiftyone.zoo.datasets -   Loading 'open-images-v6' split 'train'\n"
     ]
    },
    {
     "name": "stdout",
     "output_type": "stream",
     "text": [
      " 100% |███████████████| 2000/2000 [13.8s elapsed, 0s remaining, 149.1 samples/s]      \n"
     ]
    },
    {
     "name": "stderr",
     "output_type": "stream",
     "text": [
      "09/12/2022 22:31:38 - INFO - eta.core.utils -    100% |███████████████| 2000/2000 [13.8s elapsed, 0s remaining, 149.1 samples/s]      \n"
     ]
    },
    {
     "name": "stdout",
     "output_type": "stream",
     "text": [
      "Dataset 'open-images-v6-train-2000' created\n"
     ]
    },
    {
     "name": "stderr",
     "output_type": "stream",
     "text": [
      "09/12/2022 22:31:38 - INFO - fiftyone.zoo.datasets -   Dataset 'open-images-v6-train-2000' created\n"
     ]
    }
   ],
   "source": [
    "import fiftyone as fo\n",
    "import fiftyone.zoo as foz\n",
    "\n",
    "dataset = foz.load_zoo_dataset(\n",
    "    \"open-images-v6\",\n",
    "    split=\"train\",\n",
    "    classes=[\"Person\", \"Horse\"],\n",
    "    label_types=[\"detections\"],\n",
    "    max_samples=2000,\n",
    "    shuffle=True,\n",
    ")"
   ]
  },
  {
   "cell_type": "code",
   "execution_count": 3,
   "metadata": {},
   "outputs": [
    {
     "data": {
      "text/html": [
       "\n",
       "        <iframe\n",
       "            width=\"100%\"\n",
       "            height=\"800\"\n",
       "            src=\"http://localhost:5151/?context=ipython&subscription=8f4d086e-e089-471e-8929-4324f9a24705\"\n",
       "            frameborder=\"0\"\n",
       "            allowfullscreen\n",
       "            \n",
       "        ></iframe>\n",
       "        "
      ],
      "text/plain": [
       "<IPython.lib.display.IFrame at 0x7f57bf8e88b0>"
      ]
     },
     "metadata": {},
     "output_type": "display_data"
    }
   ],
   "source": [
    "session = fo.launch_app(dataset)"
   ]
  },
  {
   "cell_type": "code",
   "execution_count": 4,
   "metadata": {},
   "outputs": [
    {
     "name": "stdout",
     "output_type": "stream",
     "text": [
      "2000\n"
     ]
    }
   ],
   "source": [
    "from fiftyone import ViewField as F\n",
    "\n",
    "valid_labels = [\"Person\", \"Horse\"]\n",
    "valid_labels_view = dataset.filter_labels(\n",
    "    \"detections\", F(\"label\").is_in(valid_labels)\n",
    ")\n",
    "\n",
    "print(len(valid_labels_view))"
   ]
  },
  {
   "cell_type": "code",
   "execution_count": 5,
   "metadata": {},
   "outputs": [
    {
     "name": "stdout",
     "output_type": "stream",
     "text": [
      " 100% |███████████████| 2000/2000 [6.0s elapsed, 0s remaining, 349.9 samples/s]      \n"
     ]
    },
    {
     "name": "stderr",
     "output_type": "stream",
     "text": [
      "09/12/2022 22:33:01 - INFO - eta.core.utils -    100% |███████████████| 2000/2000 [6.0s elapsed, 0s remaining, 349.9 samples/s]      \n"
     ]
    }
   ],
   "source": [
    "# The directory to which to write the exported dataset\n",
    "export_dir = \"dataset\"\n",
    "\n",
    "# The name of the sample field containing the label that you wish to export\n",
    "# Used when exporting labeled datasets (e.g., classification or detection)\n",
    "label_field = \"detections\"  # for example\n",
    "\n",
    "# The type of dataset to export\n",
    "# Any subclass of `fiftyone.types.Dataset` is supported\n",
    "dataset_type = fo.types.VOCDetectionDataset  \n",
    "\n",
    "# Export the dataset\n",
    "valid_labels_view.export(\n",
    "    export_dir=export_dir,\n",
    "    dataset_type=dataset_type,\n",
    "    label_field=label_field,\n",
    ")"
   ]
  }
 ],
 "metadata": {
  "kernelspec": {
   "display_name": "Python 3.9.13 ('ml-ice')",
   "language": "python",
   "name": "python3"
  },
  "language_info": {
   "codemirror_mode": {
    "name": "ipython",
    "version": 3
   },
   "file_extension": ".py",
   "mimetype": "text/x-python",
   "name": "python",
   "nbconvert_exporter": "python",
   "pygments_lexer": "ipython3",
   "version": "3.9.13"
  },
  "orig_nbformat": 4,
  "vscode": {
   "interpreter": {
    "hash": "75f81953d9a3bddef396fa372e79e38fb81508791a5753aa5f05c3590d10a185"
   }
  }
 },
 "nbformat": 4,
 "nbformat_minor": 2
}
