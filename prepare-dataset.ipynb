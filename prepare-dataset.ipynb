{
 "cells": [
  {
   "cell_type": "code",
   "execution_count": 4,
   "metadata": {},
   "outputs": [],
   "source": [
    "%matplotlib inline"
   ]
  },
  {
   "cell_type": "code",
   "execution_count": 1,
   "metadata": {},
   "outputs": [
    {
     "name": "stdout",
     "output_type": "stream",
     "text": [
      "Downloading split 'train' to '/home/shyndman/fiftyone/open-images-v6/train' if necessary\n",
      "Found 1342 images, downloading the remaining 658\n",
      " 100% |███████████████████| 658/658 [45.3s elapsed, 0s remaining, 15.0 files/s]      \n",
      "Dataset info written to '/home/shyndman/fiftyone/open-images-v6/info.json'\n",
      "Loading existing dataset 'open-images-v6-train-2000'. To reload from disk, either delete the existing dataset or provide a custom `dataset_name` to use\n",
      "Migrating dataset 'open-images-v6-train-2000' to v0.17.2\n"
     ]
    }
   ],
   "source": [
    "import fiftyone as fo\n",
    "import fiftyone.zoo as foz\n",
    "\n",
    "dataset = foz.load_zoo_dataset(\n",
    "    \"open-images-v6\",\n",
    "    split=\"train\",\n",
    "    classes=[\"Person\", \"Horse\"],\n",
    "    label_types=[\"detections\"],\n",
    "    max_samples=2000,\n",
    "    shuffle=True,\n",
    ")"
   ]
  },
  {
   "cell_type": "code",
   "execution_count": null,
   "metadata": {},
   "outputs": [],
   "source": [
    "session = fo.launch_app(dataset)"
   ]
  },
  {
   "cell_type": "code",
   "execution_count": 2,
   "metadata": {},
   "outputs": [
    {
     "name": "stdout",
     "output_type": "stream",
     "text": [
      "2000\n"
     ]
    }
   ],
   "source": [
    "from fiftyone import ViewField as F\n",
    "\n",
    "valid_labels = [\"Person\", \"Horse\"]\n",
    "valid_labels_view = dataset.filter_labels(\n",
    "    \"detections\", F(\"label\").is_in(valid_labels)\n",
    ")\n",
    "\n",
    "print(len(valid_labels_view))"
   ]
  },
  {
   "cell_type": "code",
   "execution_count": 3,
   "metadata": {},
   "outputs": [
    {
     "name": "stdout",
     "output_type": "stream",
     "text": [
      " 100% |███████████████| 2000/2000 [6.8s elapsed, 0s remaining, 304.2 samples/s]      \n"
     ]
    }
   ],
   "source": [
    "# The directory to which to write the exported dataset\n",
    "export_dir = \"dataset\"\n",
    "\n",
    "# The name of the sample field containing the label that you wish to export\n",
    "# Used when exporting labeled datasets (e.g., classification or detection)\n",
    "label_field = \"detections\"  # for example\n",
    "\n",
    "# The type of dataset to export\n",
    "# Any subclass of `fiftyone.types.Dataset` is supported\n",
    "dataset_type = fo.types.VOCDetectionDataset  \n",
    "\n",
    "# Export the dataset\n",
    "valid_labels_view.export(\n",
    "    export_dir=export_dir,\n",
    "    dataset_type=dataset_type,\n",
    "    label_field=label_field,\n",
    ")"
   ]
  }
 ],
 "metadata": {
  "kernelspec": {
   "display_name": "Python 3.9.13 ('ml-tf-aa')",
   "language": "python",
   "name": "python3"
  },
  "language_info": {
   "codemirror_mode": {
    "name": "ipython",
    "version": 3
   },
   "file_extension": ".py",
   "mimetype": "text/x-python",
   "name": "python",
   "nbconvert_exporter": "python",
   "pygments_lexer": "ipython3",
   "version": "3.9.13"
  },
  "orig_nbformat": 4,
  "vscode": {
   "interpreter": {
    "hash": "019c07c7645f56a5a2dc80edb2dfb50916bedd947781f181c6d53d38f608f51a"
   }
  }
 },
 "nbformat": 4,
 "nbformat_minor": 2
}
